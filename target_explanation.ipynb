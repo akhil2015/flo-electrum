{
 "cells": [
  {
   "cell_type": "markdown",
   "metadata": {},
   "source": [
    "# Electrum-FLO target issue\n",
    "\n",
    "To explain the problem we'll have to first look into how Bitcoin's chunk verification works. \n"
   ]
  },
  {
   "cell_type": "markdown",
   "metadata": {},
   "source": [
    "## Bitcoin's chunk verification  \n",
    "\n",
    "Electrum BTC wallet upon receving a chunk(ie. 2016 block headers in a serialized form) from the ElectrumX server, sends the whole chunk data for verification to **verify_chunk()**. The first step in the verification process is to calculate the target of the whole chunk. In Bitcoin a new target is calculated after every 2016 blocks, there the target for the 2016 blocks is the same. The following is how the **verify_chunk()** and **get_target()** have been defined "
   ]
  },
  {
   "cell_type": "code",
   "execution_count": 3,
   "metadata": {},
   "outputs": [],
   "source": [
    "def verify_chunk(self, index, data):\n",
    "    num = len(data) // 80  # each block header is 80 bytes long. So num = 2016\n",
    "    prev_hash = self.get_hash(index * 2016 - 1) \n",
    "    target = self.get_target(index-1) # passing index-1 because to get target of header x, you need timestamp of \n",
    "                                      # header x-1 and x-1-2016\n",
    "    \n",
    "    for i in range(num): # checks locally calc target value with each block header's target value\n",
    "        raw_header = data[i*80:(i+1) * 80]\n",
    "        header = deserialize_header(raw_header, index*2016 + i)\n",
    "        self.verify_header(header, prev_hash, target)\n",
    "        prev_hash = hash_header(header)"
   ]
  },
  {
   "cell_type": "markdown",
   "metadata": {},
   "source": [
    "The chunk is broken down into 2016 headers and each of them is verified individually in the for loop "
   ]
  },
  {
   "cell_type": "code",
   "execution_count": 2,
   "metadata": {},
   "outputs": [],
   "source": [
    "    def get_target(self, index):\n",
    "        # compute target from chunk x, used in chunk x+1\n",
    "        if constants.net.TESTNET:\n",
    "            return 0\n",
    "        if index == -1:\n",
    "            return MAX_TARGET\n",
    "        if index < len(self.checkpoints):\n",
    "            h, t = self.checkpoints[index]\n",
    "            return t\n",
    "        # new target\n",
    "        first = self.read_header(index * 2016)\n",
    "        last = self.read_header(index * 2016 + 2015)\n",
    "        if not first or not last:\n",
    "            raise MissingHeader()\n",
    "        bits = last.get('bits')\n",
    "        target = self.bits_to_target(bits)\n",
    "        nActualTimespan = last.get('timestamp') - first.get('timestamp')\n",
    "        nTargetTimespan = 14 * 24 * 60 * 60\n",
    "        nActualTimespan = max(nActualTimespan, nTargetTimespan // 4)\n",
    "        nActualTimespan = min(nActualTimespan, nTargetTimespan * 4)\n",
    "        new_target = min(MAX_TARGET, (target * nActualTimespan) // nTargetTimespan)\n",
    "        return new_target"
   ]
  },
  {
   "cell_type": "markdown",
   "metadata": {},
   "source": [
    "Lets's see the definition of **read_header()** called in the above **get_target()** "
   ]
  },
  {
   "cell_type": "code",
   "execution_count": null,
   "metadata": {},
   "outputs": [],
   "source": [
    "    def read_header(self, height):\n",
    "        assert self.parent_id != self.checkpoint\n",
    "        if height < 0: # Checks if the header to be read is not negative ie. can't exist \n",
    "            return\n",
    "        if height < self.checkpoint:  \n",
    "            return self.parent().read_header(height)\n",
    "        if height > self.height(): # checks if the header height is > no of block headers stored locally in the \n",
    "            return                 # file blockchain_headers. ie. Failsafe to not skip any header \n",
    "        delta = height - self.checkpoint\n",
    "        name = self.path()\n",
    "        self.assert_headers_file_available(name)\n",
    "        with open(name, 'rb') as f:\n",
    "            f.seek(delta * 80)\n",
    "            h = f.read(80)\n",
    "            if len(h) < 80:\n",
    "                raise Exception('Expected to read a full header. This was only {} bytes'.format(len(h)))\n",
    "        if h == bytes([0])*80:\n",
    "            return None\n",
    "        return deserialize_header(h, height)"
   ]
  },
  {
   "cell_type": "markdown",
   "metadata": {},
   "source": [
    "Now lets go back to top once again. The following is the function which leads to **verify_chunk()**"
   ]
  },
  {
   "cell_type": "code",
   "execution_count": null,
   "metadata": {},
   "outputs": [],
   "source": [
    "    def connect_chunk(self, idx, hexdata):\n",
    "        try:\n",
    "            data = bfh(hexdata)\n",
    "            self.verify_chunk(idx, data)\n",
    "            #self.print_error(\"validated chunk %d\" % idx)\n",
    "            self.save_chunk(idx, data)\n",
    "            return True\n",
    "        except BaseException as e:\n",
    "            self.print_error('verify_chunk %d failed'%idx, str(e))\n",
    "            return False"
   ]
  },
  {
   "cell_type": "markdown",
   "metadata": {},
   "source": [
    "In Electrum-BTC, the whole chunk is verified first and then the whole chunk is saved into the local **blockchain_headers** file at once. ie. 2016 headers are first verified and then 2016 headers are saved locally.\n",
    "\n",
    "This is where the problem with Electrum-FLO wallet comes up. The FLO's retarget times varried at different points in time 90 blocks, 15 blocks & 1 block. But the FLO developers haven't made changes to the wallet's RPC call *get_chunk* as it returns 2016 blocks for the given index. \n",
    "\n",
    "## FLO's chunk verification \n",
    "\n",
    "The following is the code for FLO's verify chunk. "
   ]
  },
  {
   "cell_type": "code",
   "execution_count": null,
   "metadata": {},
   "outputs": [],
   "source": [
    "    def verify_chunk(self, index, data):\n",
    "        num = len(data) // 80\n",
    "        current_header = (index * 2016)\n",
    "        #last = (index * 2016 + 2015) \n",
    "        prev_hash = self.get_hash(current_header - 1)\n",
    "\n",
    "        for i in range(num):\n",
    "            target = self.get_target(current_header -1)\n",
    "            raw_header = data[i*80:(i+1) * 80]\n",
    "            header = deserialize_header(raw_header, current_header)\n",
    "            self.verify_header(header, prev_hash, target)\n",
    "            prev_hash = hash_header(header)\n",
    "            current_header = current_header + 1"
   ]
  },
  {
   "cell_type": "markdown",
   "metadata": {},
   "source": [
    "Since FLO's has varying retarget times but the core wallet's RPC hasn't been changed from Bitcoin. I am making a general assumption that retarget time is 1 block since day 1 and making appropriate changes for the block times inside the **get_target()**. \n",
    "\n",
    "Now let us look at FLO's **get_target()**(which is slightly different) "
   ]
  },
  {
   "cell_type": "code",
   "execution_count": null,
   "metadata": {},
   "outputs": [],
   "source": [
    "    def get_target(self, index):\n",
    "        if bitcoin.NetworkConstants.TESTNET:\n",
    "            return 0\n",
    "        #The range is first 90 blocks because FLO's block time was 90 blocks when it started\n",
    "        if -1 <= index <= 88:\n",
    "            return MAX_TARGET\n",
    "        if index < len(self.checkpoints):\n",
    "            h, t = self.checkpoints[index]\n",
    "            return t\n",
    "        # new target\n",
    "        headerLast = self.read_header(index)\n",
    "        height = headerLast[\"block_height\"]\n",
    "\n",
    "        # check if the height passes is in range for retargeting\n",
    "        if (height + 1) % self.DifficultyAdjustmentInterval(height + 1) != 0:\n",
    "            return int(headerLast[\"bits\"])\n",
    "        .\n",
    "        . # skipped this part as its irrelavant for our discussion right now\n",
    "        .\n",
    "\n",
    "        bnNew = self.target_to_bits(int(bnNew))\n",
    "        return bnNew"
   ]
  },
  {
   "cell_type": "code",
   "execution_count": null,
   "metadata": {},
   "outputs": [],
   "source": [
    "    def read_header(self, height):\n",
    "        assert self.parent_id != self.checkpoint\n",
    "        if height < 0: # Checks if the header to be read is not negative ie. can't exist \n",
    "            return\n",
    "        if height < self.checkpoint:  \n",
    "            return self.parent().read_header(height)\n",
    "        if height > self.height(): # checks if the header height is > no of block headers stored locally in the \n",
    "            return                 # file blockchain_headers. ie. Failsafe to not skip any header \n",
    "        delta = height - self.checkpoint\n",
    "        name = self.path()\n",
    "        self.assert_headers_file_available(name)\n",
    "        with open(name, 'rb') as f:\n",
    "            f.seek(delta * 80)\n",
    "            h = f.read(80)\n",
    "            if len(h) < 80:\n",
    "                raise Exception('Expected to read a full header. This was only {} bytes'.format(len(h)))\n",
    "        if h == bytes([0])*80:\n",
    "            return None\n",
    "        return deserialize_header(h, height)"
   ]
  },
  {
   "cell_type": "markdown",
   "metadata": {},
   "source": [
    "**Note - In the above get_target(), index refers to header_height. In BTC's case, index refers to chunk index**\n",
    "\n",
    "Since for FLO **get_target()** is being called 2016 times per chunk, the condition **if height > self.height()** is False only till the time it height is smaller than the no. of block headers in the local file. \n",
    "\n",
    "To solve this problem we need to save each chunk's header immediately after verification.  \n"
   ]
  },
  {
   "cell_type": "markdown",
   "metadata": {},
   "source": []
  }
 ],
 "metadata": {
  "kernelspec": {
   "display_name": "Python 3",
   "language": "python",
   "name": "python3"
  },
  "language_info": {
   "codemirror_mode": {
    "name": "ipython",
    "version": 3
   },
   "file_extension": ".py",
   "mimetype": "text/x-python",
   "name": "python",
   "nbconvert_exporter": "python",
   "pygments_lexer": "ipython3",
   "version": "3.6.5"
  }
 },
 "nbformat": 4,
 "nbformat_minor": 2
}
